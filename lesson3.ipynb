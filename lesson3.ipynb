{
 "cells": [
  {
   "cell_type": "code",
   "execution_count": 7,
   "metadata": {},
   "outputs": [
    {
     "data": {
      "text/plain": [
       "{15, 35, 54, 98, 119, 213}"
      ]
     },
     "execution_count": 7,
     "metadata": {},
     "output_type": "execute_result"
    }
   ],
   "source": [
    "#Дана переменная, в которой хранится словарь, содержащий гео-метки для каждого пользователя (пример структуры данных приведен ниже). Вам необходимо написать программу, которая выведет на экран множество уникальных гео-меток всех пользователей.\n",
    "ids = {'user1': [213, 213, 213, 15, 213], \n",
    "       'user2': [54, 54, 119, 119, 119], \n",
    "       'user3': [213, 98, 98, 35]}\n",
    "_list = []\n",
    "for i in ids.values():\n",
    "    _list += i\n",
    "set(_list)"
   ]
  },
  {
   "cell_type": "code",
   "execution_count": 11,
   "metadata": {},
   "outputs": [
    {
     "name": "stdout",
     "output_type": "stream",
     "text": [
      "Поисковых запросов, содержащих 2 слов(а): 42.86%\n",
      "Поисковых запросов, содержащих 3 слов(а): 57.14%\n"
     ]
    }
   ],
   "source": [
    "#Дана переменная, в которой хранится список поисковых запросов пользователя (пример структуры данных приведен ниже). Вам необходимо написать программу, которая выведет на экран распределение количества слов в запросах в требуемом виде.\n",
    "queries = [\n",
    "    'смотреть сериалы онлайн',\n",
    "    'новости спорта',\n",
    "    'афиша кино',\n",
    "    'курс доллара',\n",
    "    'сериалы этим летом',\n",
    "    'курс по питону',\n",
    "    'сериалы про спорт',\n",
    "]\n",
    "\n",
    "count_ = [len(i.split(' ')) for i in queries]\n",
    "for item_ in set(count_):\n",
    "    print(f'Поисковых запросов, содержащих {item_} слов(а): {round(count_.count(item_)/len(count_) * 100,2)}%')\n",
    "    "
   ]
  },
  {
   "cell_type": "code",
   "execution_count": 22,
   "metadata": {},
   "outputs": [
    {
     "data": {
      "text/plain": [
       "{'vk': {'revenue': 103, 'cost': 98, 'ROI': 5.1},\n",
       " 'yandex': {'revenue': 179, 'cost': 153, 'ROI': 16.99},\n",
       " 'facebook': {'revenue': 103, 'cost': 110, 'ROI': -6.36},\n",
       " 'adwords': {'revenue': 35, 'cost': 34, 'ROI': 2.94},\n",
       " 'twitter': {'revenue': 11, 'cost': 24, 'ROI': -54.17}}"
      ]
     },
     "execution_count": 22,
     "metadata": {},
     "output_type": "execute_result"
    }
   ],
   "source": [
    "#Дана переменная, в которой хранится информация о затратах и доходе рекламных кампаний по различным источникам. Необходимо дополнить исходную структуру показателем ROI, который рассчитаем по формуле: (revenue / cost - 1) * 100\n",
    "results = {\n",
    "    'vk': {'revenue': 103, 'cost': 98},\n",
    "    'yandex': {'revenue': 179, 'cost': 153},\n",
    "    'facebook': {'revenue': 103, 'cost': 110},\n",
    "    'adwords': {'revenue': 35, 'cost': 34},\n",
    "    'twitter': {'revenue': 11, 'cost': 24},\n",
    "}\n",
    "for i in results.values():\n",
    "    i['ROI'] = round((i.get('revenue') / i.get('cost') - 1) * 100, 2)\n",
    "results"
   ]
  },
  {
   "cell_type": "code",
   "execution_count": 25,
   "metadata": {
    "scrolled": true
   },
   "outputs": [
    {
     "name": "stdout",
     "output_type": "stream",
     "text": [
      "Максимальный объем продаж на рекламном канале: vk\n"
     ]
    }
   ],
   "source": [
    "#Дана переменная, в которой хранится статистика рекламных каналов по объемам продаж (пример структуры данных приведен ниже). Напишите программу, которая возвращает название канала с максимальным объемом продаж.\n",
    "stats = {'facebook': 55, 'yandex': 115, 'vk': 120, 'google': 99, 'email': 42, 'ok': 98}\n",
    "for _key, _value in stats.items():\n",
    "    if _value == max(stats.values()):\n",
    "        print(f'Максимальный объем продаж на рекламном канале: {_key}')"
   ]
  },
  {
   "cell_type": "code",
   "execution_count": 52,
   "metadata": {},
   "outputs": [
    {
     "data": {
      "text/plain": [
       "{'a': {'b': {'c': {'d': {'e': 'f'}}}}}"
      ]
     },
     "execution_count": 52,
     "metadata": {},
     "output_type": "execute_result"
    }
   ],
   "source": [
    "#Дан список произвольной длины. Необходимо написать код, который на основе исходного списка составит словарь такого уровня вложенности, какова длина исхондого списка.\n",
    "my_list = ['a', 'b', 'c', 'd', 'e', 'f']\n",
    "my_list.reverse()\n",
    "prev = 0\n",
    "for i in my_list:\n",
    "    if prev == 0:\n",
    "        prev = i\n",
    "        continue\n",
    "    prev = {i:prev}\n",
    "prev"
   ]
  },
  {
   "cell_type": "code",
   "execution_count": 145,
   "metadata": {
    "scrolled": true
   },
   "outputs": [
    {
     "name": "stdout",
     "output_type": "stream",
     "text": [
      "Введите количество порций:  5\n"
     ]
    },
    {
     "data": {
      "text/html": [
       "<div>\n",
       "<style scoped>\n",
       "    .dataframe tbody tr th:only-of-type {\n",
       "        vertical-align: middle;\n",
       "    }\n",
       "\n",
       "    .dataframe tbody tr th {\n",
       "        vertical-align: top;\n",
       "    }\n",
       "\n",
       "    .dataframe thead th {\n",
       "        text-align: right;\n",
       "    }\n",
       "</style>\n",
       "<table border=\"1\" class=\"dataframe\">\n",
       "  <thead>\n",
       "    <tr style=\"text-align: right;\">\n",
       "      <th></th>\n",
       "      <th>ingridient_name</th>\n",
       "      <th>measure</th>\n",
       "      <th>quantity</th>\n",
       "    </tr>\n",
       "  </thead>\n",
       "  <tbody>\n",
       "    <tr>\n",
       "      <th>0</th>\n",
       "      <td>бекон</td>\n",
       "      <td>гр</td>\n",
       "      <td>150</td>\n",
       "    </tr>\n",
       "    <tr>\n",
       "      <th>1</th>\n",
       "      <td>вода</td>\n",
       "      <td>мл</td>\n",
       "      <td>1000</td>\n",
       "    </tr>\n",
       "    <tr>\n",
       "      <th>2</th>\n",
       "      <td>колбаса</td>\n",
       "      <td>гр</td>\n",
       "      <td>150</td>\n",
       "    </tr>\n",
       "    <tr>\n",
       "      <th>3</th>\n",
       "      <td>лайм</td>\n",
       "      <td>гр</td>\n",
       "      <td>100</td>\n",
       "    </tr>\n",
       "    <tr>\n",
       "      <th>4</th>\n",
       "      <td>лимон</td>\n",
       "      <td>шт</td>\n",
       "      <td>5</td>\n",
       "    </tr>\n",
       "    <tr>\n",
       "      <th>5</th>\n",
       "      <td>маслины</td>\n",
       "      <td>гр</td>\n",
       "      <td>50</td>\n",
       "    </tr>\n",
       "    <tr>\n",
       "      <th>6</th>\n",
       "      <td>огурцы</td>\n",
       "      <td>гр</td>\n",
       "      <td>100</td>\n",
       "    </tr>\n",
       "    <tr>\n",
       "      <th>7</th>\n",
       "      <td>оливки</td>\n",
       "      <td>гр</td>\n",
       "      <td>50</td>\n",
       "    </tr>\n",
       "    <tr>\n",
       "      <th>8</th>\n",
       "      <td>оливковое масло</td>\n",
       "      <td>мл</td>\n",
       "      <td>100</td>\n",
       "    </tr>\n",
       "    <tr>\n",
       "      <th>9</th>\n",
       "      <td>перец</td>\n",
       "      <td>гр</td>\n",
       "      <td>100</td>\n",
       "    </tr>\n",
       "    <tr>\n",
       "      <th>10</th>\n",
       "      <td>салат</td>\n",
       "      <td>гр</td>\n",
       "      <td>50</td>\n",
       "    </tr>\n",
       "    <tr>\n",
       "      <th>11</th>\n",
       "      <td>сахар</td>\n",
       "      <td>гр</td>\n",
       "      <td>50</td>\n",
       "    </tr>\n",
       "    <tr>\n",
       "      <th>12</th>\n",
       "      <td>сыр</td>\n",
       "      <td>гр</td>\n",
       "      <td>350</td>\n",
       "    </tr>\n",
       "    <tr>\n",
       "      <th>13</th>\n",
       "      <td>тесто</td>\n",
       "      <td>гр</td>\n",
       "      <td>500</td>\n",
       "    </tr>\n",
       "    <tr>\n",
       "      <th>14</th>\n",
       "      <td>томаты</td>\n",
       "      <td>гр</td>\n",
       "      <td>100</td>\n",
       "    </tr>\n",
       "    <tr>\n",
       "      <th>15</th>\n",
       "      <td>томаты</td>\n",
       "      <td>шт</td>\n",
       "      <td>10</td>\n",
       "    </tr>\n",
       "  </tbody>\n",
       "</table>\n",
       "</div>"
      ],
      "text/plain": [
       "    ingridient_name measure  quantity\n",
       "0             бекон      гр       150\n",
       "1              вода      мл      1000\n",
       "2           колбаса      гр       150\n",
       "3              лайм      гр       100\n",
       "4             лимон      шт         5\n",
       "5           маслины      гр        50\n",
       "6            огурцы      гр       100\n",
       "7            оливки      гр        50\n",
       "8   оливковое масло      мл       100\n",
       "9             перец      гр       100\n",
       "10            салат      гр        50\n",
       "11            сахар      гр        50\n",
       "12              сыр      гр       350\n",
       "13            тесто      гр       500\n",
       "14           томаты      гр       100\n",
       "15           томаты      шт        10"
      ]
     },
     "execution_count": 145,
     "metadata": {},
     "output_type": "execute_result"
    }
   ],
   "source": [
    "#Дана книга рецептов с информацией о том, сколько ингредиентов нужно для приготовления блюда в расчете на одну порцию (пример данных представлен ниже).\n",
    "#Напишите программу, которая будет запрашивать у пользователя количество порций для приготовления этих блюд и отображать информацию о суммарном количестве требуемых ингредиентов в указанном виде.\n",
    "#Внимание! Одинаковые ингридиенты с разными размерностями нужно считать раздельно!\n",
    "cook_book = {\n",
    "  'салат': [\n",
    "     {'ingridient_name': 'сыр', 'quantity': 50, 'measure': 'гр'},\n",
    "     {'ingridient_name': 'томаты', 'quantity': 2, 'measure': 'шт'},\n",
    "     {'ingridient_name': 'огурцы', 'quantity': 20, 'measure': 'гр'},\n",
    "     {'ingridient_name': 'маслины', 'quantity': 10, 'measure': 'гр'},\n",
    "     {'ingridient_name': 'оливковое масло', 'quantity': 20, 'measure': 'мл'},\n",
    "     {'ingridient_name': 'салат', 'quantity': 10, 'measure': 'гр'},\n",
    "     {'ingridient_name': 'перец', 'quantity': 20, 'measure': 'гр'}\n",
    "    ],\n",
    "  'пицца': [\n",
    "     {'ingridient_name': 'сыр', 'quantity': 20, 'measure': 'гр'},\n",
    "     {'ingridient_name': 'колбаса', 'quantity': 30, 'measure': 'гр'},\n",
    "     {'ingridient_name': 'бекон', 'quantity': 30, 'measure': 'гр'},\n",
    "     {'ingridient_name': 'оливки', 'quantity': 10, 'measure': 'гр'},\n",
    "     {'ingridient_name': 'томаты', 'quantity': 20, 'measure': 'гр'},\n",
    "     {'ingridient_name': 'тесто', 'quantity': 100, 'measure': 'гр'},   \n",
    "    ],\n",
    "  'лимонад': [\n",
    "     {'ingridient_name': 'лимон', 'quantity': 1, 'measure': 'шт'},\n",
    "     {'ingridient_name': 'вода', 'quantity': 200, 'measure': 'мл'},\n",
    "     {'ingridient_name': 'сахар', 'quantity': 10, 'measure': 'гр'},\n",
    "     {'ingridient_name': 'лайм', 'quantity': 20, 'measure': 'гр'},    \n",
    "    ]\n",
    "}\n",
    "import pandas as pd\n",
    "df = pd.DataFrame()\n",
    "cnt = int(input('Введите количество порций:  '))\n",
    "for i in cook_book.values():\n",
    "    for _str in i:\n",
    "        a = pd.DataFrame.from_records([_str])\n",
    "        df = df.append(a)\n",
    "df_new = df.groupby(['ingridient_name','measure']).sum().reset_index()\n",
    "df_new['quantity'] = df_new['quantity'] * cnt\n",
    "df_new"
   ]
  }
 ],
 "metadata": {
  "kernelspec": {
   "display_name": "Python 3",
   "language": "python",
   "name": "python3"
  }
 },
 "nbformat": 4,
 "nbformat_minor": 4
}
