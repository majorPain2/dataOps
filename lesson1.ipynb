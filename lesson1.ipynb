{
 "cells": [
  {
   "cell_type": "code",
   "execution_count": 12,
   "metadata": {},
   "outputs": [
    {
     "name": "stdout",
     "output_type": "stream",
     "text": [
      "Фразы равной длины\n"
     ]
    }
   ],
   "source": [
    "#Напишите код, который проверяет какая из этих строк длиннее.\n",
    "phrase_1 = 'Насколько проще было бы писать программы, если бы не заказчики'\n",
    "phrase_2 = '640Кб должно хватить для любых задач. Билл Гейтс (по легенде)'\n",
    "\n",
    "if len(phrase_1) > len(phrase_2):\n",
    "    print('Фраза 1 длиннее фразы 2')\n",
    "elif len(phrase_1) < len(phrase_2):\n",
    "    print('Фраза 2 длиннее фразы 1')\n",
    "else:\n",
    "    print('Фразы равной длины')\n"
   ]
  },
  {
   "cell_type": "code",
   "execution_count": 31,
   "metadata": {},
   "outputs": [
    {
     "name": "stdout",
     "output_type": "stream",
     "text": [
      "введите год 2000\n",
      "Високосный год\n"
     ]
    }
   ],
   "source": [
    "#Дана переменная, в которой хранится четырехзначное число (год). Необходимо написать программу, которая выведет, является ли данный год високосным или обычным.\n",
    "year = input('введите год ')\n",
    "import datetime as dt\n",
    "start = dt.date(int(year), 1, 1)\n",
    "end = dt.date(int(year), 12, 31)\n",
    "days_count = (end - start).days + 1\n",
    "if days_count == 366:\n",
    "    print('Високосный год')\n",
    "elif days_count == 365:\n",
    "    print('Обычный год')"
   ]
  },
  {
   "cell_type": "code",
   "execution_count": 32,
   "metadata": {},
   "outputs": [
    {
     "name": "stdout",
     "output_type": "stream",
     "text": [
      "Введите месяц:январь\n",
      "Введите число:14\n",
      "козерог\n"
     ]
    }
   ],
   "source": [
    "#Необходимо написать программу, которая будет запрашивать у пользователя месяц и дату рождения и выводить соответствующий знак зодиака.\n",
    "month=input('Введите месяц:')\n",
    "day=input('Введите число:')\n",
    "\n",
    "if (month == 'декабрь' and int(day) >= 22) or (month == 'январь' and int(day) < 20): print('козерог')\n",
    "elif (month == 'январь' and int(day) >= 20) or (month == 'февраль' and int(day) < 18): print('водолей')\n",
    "elif (month == 'февраль' and int(day) >= 18) or (month == 'март' and int(day) < 20): print('рыбы')\n",
    "elif (month == 'март' and int(day) >= 20) or (month == 'апрель' and int(day) < 20): print('овен')\n",
    "elif (month == 'апрель' and int(day) >= 20) or (month == 'май' and int(day) < 21): print('телец')\n",
    "elif (month == 'май' and int(day) >= 21) or (month == 'июнь' and int(day) < 21): print('близнецы')\n",
    "elif (month == 'июнь' and int(day) >= 21) or (month == 'июль' and int(day) < 23): print('рак')\n",
    "elif (month == 'июль' and int(day) >= 23) or (month == 'август' and int(day) < 23): print('лев')\n",
    "elif (month == 'август' and int(day) >= 23) or (month == 'сентябрь' and int(day) < 23): print('дева')\n",
    "elif (month == 'сентябрь' and int(day) >= 23) or (month == 'окрябрь' and int(day) < 23): print('весы')\n",
    "elif (month == 'окрябрь' and int(day) >= 23) or (month == 'ноябрь' and int(day) < 22): print('скорпион')\n",
    "elif (month == 'ноябрь' and int(day) >= 22) or (month == 'декабрь' and int(day) < 22): print('стрелец')"
   ]
  },
  {
   "cell_type": "code",
   "execution_count": 37,
   "metadata": {},
   "outputs": [
    {
     "name": "stdout",
     "output_type": "stream",
     "text": [
      "Коробка №2\n"
     ]
    }
   ],
   "source": [
    "#Вам нужно написать программу для подбора упаковок по размерам товара.\n",
    "width = 45\n",
    "length = 45\n",
    "height = 5\n",
    "\n",
    "if width < 15 and length < 15 and height < 15:\n",
    "    print('Коробка №1')\n",
    "elif 15 < width < 50 or 15 < length < 50 or 15 < height < 50:\n",
    "    print('Коробка №2')\n",
    "elif length > 200:\n",
    "    print('Упаковка для лыж')\n",
    "else:\n",
    "    print('Стандартная коробка №3')"
   ]
  },
  {
   "cell_type": "code",
   "execution_count": 54,
   "metadata": {},
   "outputs": [
    {
     "name": "stdout",
     "output_type": "stream",
     "text": [
      "шестизначное 234342\n",
      "Счастливый билет\n"
     ]
    }
   ],
   "source": [
    "#Дана переменная, в которой хранится шестизначное число (номер проездного билета). \n",
    "#Напишите программу, которая будет определять, является ли данный билет \"счастливым\". \n",
    "#Билет считается счастливым, если сумма первых трех цифр совпадает с суммой последних трех цифр номера.\n",
    "x = input('шестизначное ')\n",
    "x1 = 0\n",
    "x2 = 0\n",
    "for i, num in enumerate(x):\n",
    "    if i < 3:\n",
    "        x1 += int(num)\n",
    "    else:\n",
    "        x2 += int(num)\n",
    "if x1 == x2:\n",
    "    print('Счастливый билет')\n",
    "else:\n",
    "    print('Неасчастливый билет')\n",
    "    \n",
    "if x[0] + x[1] + x[2] == x[3] + x[4] + x[5]:\n",
    "    print('Счастливый билет')\n",
    "else:\n",
    "    print('Неасчастливый билет')"
   ]
  },
  {
   "cell_type": "code",
   "execution_count": 57,
   "metadata": {},
   "outputs": [
    {
     "name": "stdout",
     "output_type": "stream",
     "text": [
      "шестизначное 345453\n",
      "Счастливый билет\n"
     ]
    }
   ],
   "source": [
    "x = input('шестизначное ')\n",
    "if int(x[0]) + int(x[1]) + int(x[2]) == int(x[3]) + int(x[4]) + int(x[5]):\n",
    "    print('Счастливый билет')\n",
    "else:\n",
    "    print('Неасчастливый билет')"
   ]
  },
  {
   "cell_type": "code",
   "execution_count": 71,
   "metadata": {
    "scrolled": true
   },
   "outputs": [
    {
     "name": "stdout",
     "output_type": "stream",
     "text": [
      "Введите тип фигуры: Прямоугольник\n",
      "Введите длину стороны A: 10\n",
      "Введите длину стороны B: 5\n",
      "Площадь прямоугольника: 50\n"
     ]
    }
   ],
   "source": [
    "#Напишите программу, которая сможет вычислять площади трех фигур\n",
    "figure_type = input('Введите тип фигуры: ').lower()\n",
    "import math\n",
    "\n",
    "if figure_type == 'круг':\n",
    "    r = int(input('Введите радиус круга: '))\n",
    "    result = math.pi * r**2\n",
    "    print(f'Площадь круга: {result}')\n",
    "if figure_type == 'треугольник':\n",
    "    a= int(input('Введите длину стороны A: '))\n",
    "    b= int(input('Введите длину стороны B: '))\n",
    "    c= int(input('Введите длину стороны C: '))\n",
    "    p = (a + b +c) / 2\n",
    "    result = math.sqrt(p * (p - a) * (p - b) * (p - c))\n",
    "    print(f'Площадь треугольника: {result}')\n",
    "if figure_type == 'прямоугольник':\n",
    "    a= int(input('Введите длину стороны A: '))\n",
    "    b= int(input('Введите длину стороны B: '))\n",
    "    result = a * b\n",
    "    print(f'Площадь прямоугольника: {result}')"
   ]
  }
 ],
 "metadata": {
  "kernelspec": {
   "display_name": "Python 3",
   "language": "python",
   "name": "python3"
  },
  "language_info": {
   "codemirror_mode": {
    "name": "ipython",
    "version": 3
   },
   "file_extension": ".py",
   "mimetype": "text/x-python",
   "name": "python",
   "nbconvert_exporter": "python",
   "pygments_lexer": "ipython3",
   "version": "3.8.3"
  }
 },
 "nbformat": 4,
 "nbformat_minor": 4
}
